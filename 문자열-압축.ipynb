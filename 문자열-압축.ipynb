{
  "nbformat": 4,
  "nbformat_minor": 0,
  "metadata": {
    "colab": {
      "name": "문자열 압축ipynb",
      "provenance": []
    },
    "kernelspec": {
      "name": "python3",
      "display_name": "Python 3"
    }
  },
  "cells": [
    {
      "cell_type": "markdown",
      "metadata": {
        "id": "miEwjqLuYtfe"
      },
      "source": [
        "* 정답 풀이"
      ]
    },
    {
      "cell_type": "code",
      "metadata": {
        "id": "6OT7oy5aUGhE"
      },
      "source": [
        "def solution(text):   \n",
        "    length = []\n",
        "    length.append(len(text))\n",
        "    # 자르는 단위\n",
        "    for i in range(1, len(text)//2+1):\n",
        "        num = [len(text)//i + 1 if len(text)%i != 0 else len(text)//i][0]\n",
        "        # 반복되는지\n",
        "        words = []\n",
        "        for word in [text[j*i:(j+1)*i] for j in range(num)]:\n",
        "            if len(words) == 0:\n",
        "                words.append(str(1))\n",
        "                words.append(word)\n",
        "                continue\n",
        "            if words[-1] != word:\n",
        "                words.append(str(1))\n",
        "                words.append(word)\n",
        "            else:\n",
        "                words[-2] = str(int(words[-2]) + 1)\n",
        "        # 문자열 만들기\n",
        "        while '1' in words: words.remove(str(1))\n",
        "        length.append(len(''.join(words)))\n",
        "    return min(length)"
      ],
      "execution_count": 127,
      "outputs": []
    },
    {
      "cell_type": "code",
      "metadata": {
        "id": "Uf8si2ga3quz"
      },
      "source": [
        "s1 =\"aabbaccc\"\n",
        "s2 = \"ababcdcdababcdcd\"\n",
        "s3 = \"abcabcdede\"\n",
        "s4 = \"abcabcabcabcdededededede\"\n",
        "s5 = \"xababcdcdababcdcd\""
      ],
      "execution_count": 105,
      "outputs": []
    },
    {
      "cell_type": "code",
      "metadata": {
        "colab": {
          "base_uri": "https://localhost:8080/"
        },
        "id": "QD-1kiD8SH2J",
        "outputId": "e07b70f4-827e-42fd-d075-e3cc0591f72e"
      },
      "source": [
        "print(solution(s1))\n",
        "print(solution(s2))\n",
        "print(solution(s3))\n",
        "print(solution(s4))\n",
        "print(solution(s5))"
      ],
      "execution_count": 128,
      "outputs": [
        {
          "output_type": "stream",
          "text": [
            "7\n",
            "9\n",
            "8\n",
            "14\n",
            "17\n"
          ],
          "name": "stdout"
        }
      ]
    },
    {
      "cell_type": "markdown",
      "metadata": {
        "id": "uKe0pzoxYye4"
      },
      "source": [
        "* 틀린 풀이"
      ]
    },
    {
      "cell_type": "code",
      "metadata": {
        "id": "MXoISXZLE8oP"
      },
      "source": [
        "def solution(text):   \n",
        "    length = []\n",
        "    length.append(len(text))\n",
        "    # 자르는 단위\n",
        "    for i in range(1, len(text)//2+1):\n",
        "        num = [len(text)//i + 1 if len(text)%i != 0 else len(text)//i][0]\n",
        "        # 반복되는지\n",
        "        words = {}\n",
        "        for word in [text[j*i:(j+1)*i] for j in range(num)]:\n",
        "            if word not in words:\n",
        "                words[word] = 1\n",
        "            else:\n",
        "                words[word] += 1\n",
        "        # 문자열 만들기\n",
        "        make = []\n",
        "        for k in range(len(words)):\n",
        "            if list(words.values())[k] != 1:\n",
        "                make.append(str(list(words.values())[k]))\n",
        "            make.append(list(words.keys())[k])\n",
        "        length.append(len(''.join(make)))\n",
        "    return min(length)"
      ],
      "execution_count": 94,
      "outputs": []
    },
    {
      "cell_type": "code",
      "metadata": {
        "id": "ji6g34FSX_CK"
      },
      "source": [
        "# 직전의 값이 같아야 압축된다는 점을 놓침"
      ],
      "execution_count": null,
      "outputs": []
    }
  ]
}